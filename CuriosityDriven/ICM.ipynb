{
 "cells": [
  {
   "cell_type": "code",
   "execution_count": 1,
   "id": "2a17c39a",
   "metadata": {},
   "outputs": [],
   "source": [
    "import numpy as np \n",
    "import torch\n",
    "import torch.nn as nn\n",
    "import torch.functional as F\n",
    "from torch.distributions import Categorical"
   ]
  },
  {
   "cell_type": "code",
   "execution_count": 2,
   "id": "ac7a4484",
   "metadata": {},
   "outputs": [],
   "source": [
    "class ActorCritic(nn.Module):\n",
    "    def __init__(self, input_dims, n_actions: int, gamma : int = 0.99, tau: int = 0.98):\n",
    "        super(ActorCritic, self).__init__()\n",
    "        self.gamma = gamma\n",
    "        self.tau = tau\n",
    "        \n",
    "        \n",
    "        self.input = nn.Linear(*input_dims, 256)\n",
    "        self.dense = nn.Linear(256, 256)\n",
    "        \n",
    "        self.gru = nn.GRUCell(256, 256)\n",
    "        self.policy = nn.Linear(256, n_actions)\n",
    "        self.v = nn.Linear(256, 1)\n",
    "        \n",
    "    def forward(self, state : torch.Tensor, hidden_state: torch.Tensor):\n",
    "        x = F.relu(self.input(state))\n",
    "        x = F.relu(self.dense(x))\n",
    "        hidden_state = self.gru(x, (hidden_state))\n",
    "        \n",
    "        pi = self.policy(hidden_state)\n",
    "        v = self.v(hidden_state)\n",
    "        \n",
    "        probs = torch.softmax(pi, dim=1)\n",
    "        dist = Categorical(probs)\n",
    "        action = dist.sample()\n",
    "        log_prob = dist.log_prob(action)\n",
    "        \n",
    "        return action.numpy()[0], v, log_prob, hx\n",
    "        "
   ]
  },
  {
   "cell_type": "code",
   "execution_count": null,
   "id": "9d1be34b",
   "metadata": {},
   "outputs": [],
   "source": []
  }
 ],
 "metadata": {
  "kernelspec": {
   "display_name": "Python 3",
   "language": "python",
   "name": "python3"
  },
  "language_info": {
   "codemirror_mode": {
    "name": "ipython",
    "version": 3
   },
   "file_extension": ".py",
   "mimetype": "text/x-python",
   "name": "python",
   "nbconvert_exporter": "python",
   "pygments_lexer": "ipython3",
   "version": "3.7.10"
  }
 },
 "nbformat": 4,
 "nbformat_minor": 5
}
